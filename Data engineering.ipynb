{
 "cells": [
  {
   "cell_type": "code",
   "execution_count": 155,
   "metadata": {},
   "outputs": [],
   "source": [
    "import numpy as np\n",
    "import pandas as pd"
   ]
  },
  {
   "cell_type": "code",
   "execution_count": 156,
   "metadata": {},
   "outputs": [],
   "source": [
    "accounts = pd.read_csv(\"data/accounts.csv\", low_memory=False)\n",
    "comments = pd.read_csv(\"data/comments.csv\", low_memory=False)\n",
    "genres = pd.read_csv(\"data/genres.csv\", low_memory=False)\n",
    "interactions = pd.read_csv(\"data/interactions.csv\", low_memory=False)\n",
    "reads = pd.read_csv(\"data/reads.csv\", low_memory=False)\n",
    "stories = pd.read_csv(\"data/stories.csv\", low_memory=False)"
   ]
  },
  {
   "cell_type": "markdown",
   "metadata": {},
   "source": [
    "# Stories"
   ]
  },
  {
   "cell_type": "code",
   "execution_count": 157,
   "metadata": {},
   "outputs": [
    {
     "name": "stdout",
     "output_type": "stream",
     "text": [
      "<class 'pandas.core.frame.DataFrame'>\n",
      "RangeIndex: 171237 entries, 0 to 171236\n",
      "Data columns (total 16 columns):\n",
      "STORY_ID              171237 non-null int64\n",
      "CREATE_TIME           171237 non-null int64\n",
      "MODIFIED_TIME         171237 non-null int64\n",
      "RATING                171237 non-null object\n",
      "CATEGORY_REF          158861 non-null float64\n",
      "EXTRA_CATEGORY_REF    96745 non-null object\n",
      "STORY_LANGUAGE        171237 non-null object\n",
      "NR_OF_CHAPTERS        171237 non-null int64\n",
      "IS_PUBLISHED          171237 non-null int64\n",
      "IS_FINISHED           171237 non-null int64\n",
      "HAS_COVER             171237 non-null bool\n",
      "COPYRIGHT_REF         171237 non-null int64\n",
      "IS_CLASSIC            171237 non-null int64\n",
      "FIRST_PUBLISHED       105763 non-null float64\n",
      "LAST_CHANGED          137741 non-null float64\n",
      "ACCOUNT_ID            171237 non-null int64\n",
      "dtypes: bool(1), float64(3), int64(9), object(3)\n",
      "memory usage: 19.8+ MB\n"
     ]
    }
   ],
   "source": [
    "stories.info()"
   ]
  },
  {
   "cell_type": "code",
   "execution_count": 158,
   "metadata": {},
   "outputs": [],
   "source": [
    "stories.dropna(how='all', inplace=True)"
   ]
  },
  {
   "cell_type": "code",
   "execution_count": 159,
   "metadata": {},
   "outputs": [
    {
     "data": {
      "text/plain": [
       "0                  NaN\n",
       "1                  NaN\n",
       "2         1.472350e+12\n",
       "3         1.475540e+12\n",
       "4                  NaN\n",
       "5         1.477860e+12\n",
       "6                  NaN\n",
       "7         1.479050e+12\n",
       "8         1.536730e+12\n",
       "9         1.479310e+12\n",
       "10        1.479210e+12\n",
       "11                 NaN\n",
       "12                 NaN\n",
       "13        1.480290e+12\n",
       "14                 NaN\n",
       "15        1.480300e+12\n",
       "16                 NaN\n",
       "17                 NaN\n",
       "18                 NaN\n",
       "19        1.480930e+12\n",
       "20                 NaN\n",
       "21                 NaN\n",
       "22                 NaN\n",
       "23                 NaN\n",
       "24        1.481840e+12\n",
       "25                 NaN\n",
       "26                 NaN\n",
       "27        1.483310e+12\n",
       "28                 NaN\n",
       "29                 NaN\n",
       "              ...     \n",
       "171207    1.527440e+12\n",
       "171208    1.528880e+12\n",
       "171209    1.527670e+12\n",
       "171210    1.527670e+12\n",
       "171211    1.527890e+12\n",
       "171212             NaN\n",
       "171213    1.527780e+12\n",
       "171214    1.527780e+12\n",
       "171215    1.527780e+12\n",
       "171216             NaN\n",
       "171217    1.528060e+12\n",
       "171218    1.528120e+12\n",
       "171219    1.528120e+12\n",
       "171220    1.529400e+12\n",
       "171221    1.528580e+12\n",
       "171222    1.528310e+12\n",
       "171223    1.529700e+12\n",
       "171224    1.528390e+12\n",
       "171225    1.528360e+12\n",
       "171226    1.528380e+12\n",
       "171227             NaN\n",
       "171228             NaN\n",
       "171229    1.541930e+12\n",
       "171230    1.542460e+12\n",
       "171231    1.549450e+12\n",
       "171232    1.535630e+12\n",
       "171233    1.535630e+12\n",
       "171234    1.541790e+12\n",
       "171235    1.543350e+12\n",
       "171236    1.528660e+12\n",
       "Name: LAST_CHANGED, Length: 171237, dtype: float64"
      ]
     },
     "execution_count": 159,
     "metadata": {},
     "output_type": "execute_result"
    }
   ],
   "source": [
    "# Change all date columns to proper data type.\n",
    "stories['CREATE_TIME'].astype(float, inplace=True)\n",
    "stories['MODIFIED_TIME'].astype(float, inplace=True)\n",
    "stories['FIRST_PUBLISHED'].astype(float, inplace=True)\n",
    "stories['LAST_CHANGED'].astype(float, inplace=True)"
   ]
  },
  {
   "cell_type": "code",
   "execution_count": 160,
   "metadata": {},
   "outputs": [
    {
     "name": "stdout",
     "output_type": "stream",
     "text": [
      "<class 'pandas.core.frame.DataFrame'>\n",
      "Int64Index: 171237 entries, 0 to 171236\n",
      "Data columns (total 16 columns):\n",
      "STORY_ID              171237 non-null int64\n",
      "CREATE_TIME           171237 non-null int64\n",
      "MODIFIED_TIME         171237 non-null int64\n",
      "RATING                171237 non-null object\n",
      "CATEGORY_REF          158861 non-null float64\n",
      "EXTRA_CATEGORY_REF    96745 non-null object\n",
      "STORY_LANGUAGE        171237 non-null object\n",
      "NR_OF_CHAPTERS        171237 non-null int64\n",
      "IS_PUBLISHED          171237 non-null int64\n",
      "IS_FINISHED           171237 non-null int64\n",
      "HAS_COVER             171237 non-null bool\n",
      "COPYRIGHT_REF         171237 non-null int64\n",
      "IS_CLASSIC            171237 non-null int64\n",
      "FIRST_PUBLISHED       105763 non-null float64\n",
      "LAST_CHANGED          137741 non-null float64\n",
      "ACCOUNT_ID            171237 non-null int64\n",
      "dtypes: bool(1), float64(3), int64(9), object(3)\n",
      "memory usage: 21.1+ MB\n"
     ]
    }
   ],
   "source": [
    "stories.info()"
   ]
  },
  {
   "cell_type": "code",
   "execution_count": 161,
   "metadata": {},
   "outputs": [
    {
     "data": {
      "text/html": [
       "<div>\n",
       "<style scoped>\n",
       "    .dataframe tbody tr th:only-of-type {\n",
       "        vertical-align: middle;\n",
       "    }\n",
       "\n",
       "    .dataframe tbody tr th {\n",
       "        vertical-align: top;\n",
       "    }\n",
       "\n",
       "    .dataframe thead th {\n",
       "        text-align: right;\n",
       "    }\n",
       "</style>\n",
       "<table border=\"1\" class=\"dataframe\">\n",
       "  <thead>\n",
       "    <tr style=\"text-align: right;\">\n",
       "      <th></th>\n",
       "      <th>STORY_ID</th>\n",
       "      <th>CREATE_TIME</th>\n",
       "      <th>MODIFIED_TIME</th>\n",
       "      <th>RATING</th>\n",
       "      <th>CATEGORY_REF</th>\n",
       "      <th>EXTRA_CATEGORY_REF</th>\n",
       "      <th>STORY_LANGUAGE</th>\n",
       "      <th>NR_OF_CHAPTERS</th>\n",
       "      <th>IS_PUBLISHED</th>\n",
       "      <th>IS_FINISHED</th>\n",
       "      <th>HAS_COVER</th>\n",
       "      <th>COPYRIGHT_REF</th>\n",
       "      <th>IS_CLASSIC</th>\n",
       "      <th>FIRST_PUBLISHED</th>\n",
       "      <th>LAST_CHANGED</th>\n",
       "      <th>ACCOUNT_ID</th>\n",
       "    </tr>\n",
       "  </thead>\n",
       "  <tbody>\n",
       "    <tr>\n",
       "      <th>0</th>\n",
       "      <td>1</td>\n",
       "      <td>2016-08-10 20:13:20</td>\n",
       "      <td>2016-08-10 20:13:20</td>\n",
       "      <td>safe</td>\n",
       "      <td>0.0</td>\n",
       "      <td>NaN</td>\n",
       "      <td>spa</td>\n",
       "      <td>1</td>\n",
       "      <td>0</td>\n",
       "      <td>0</td>\n",
       "      <td>False</td>\n",
       "      <td>1</td>\n",
       "      <td>0</td>\n",
       "      <td>NaT</td>\n",
       "      <td>NaT</td>\n",
       "      <td>3197</td>\n",
       "    </tr>\n",
       "    <tr>\n",
       "      <th>1</th>\n",
       "      <td>2</td>\n",
       "      <td>2016-08-27 23:20:00</td>\n",
       "      <td>2016-08-27 23:20:00</td>\n",
       "      <td>safe</td>\n",
       "      <td>0.0</td>\n",
       "      <td>NaN</td>\n",
       "      <td>spa</td>\n",
       "      <td>0</td>\n",
       "      <td>0</td>\n",
       "      <td>0</td>\n",
       "      <td>False</td>\n",
       "      <td>1</td>\n",
       "      <td>0</td>\n",
       "      <td>NaT</td>\n",
       "      <td>NaT</td>\n",
       "      <td>3312</td>\n",
       "    </tr>\n",
       "    <tr>\n",
       "      <th>2</th>\n",
       "      <td>3</td>\n",
       "      <td>2016-08-28 02:06:40</td>\n",
       "      <td>2016-08-28 02:06:40</td>\n",
       "      <td>safe</td>\n",
       "      <td>1.0</td>\n",
       "      <td>23</td>\n",
       "      <td>spa</td>\n",
       "      <td>2</td>\n",
       "      <td>1</td>\n",
       "      <td>0</td>\n",
       "      <td>True</td>\n",
       "      <td>1</td>\n",
       "      <td>0</td>\n",
       "      <td>2016-08-28 02:06:40</td>\n",
       "      <td>2016-08-28 02:06:40</td>\n",
       "      <td>3408</td>\n",
       "    </tr>\n",
       "    <tr>\n",
       "      <th>3</th>\n",
       "      <td>4</td>\n",
       "      <td>2016-10-04 00:13:20</td>\n",
       "      <td>2016-10-04 00:13:20</td>\n",
       "      <td>safe</td>\n",
       "      <td>13.0</td>\n",
       "      <td>0</td>\n",
       "      <td>spa</td>\n",
       "      <td>1</td>\n",
       "      <td>1</td>\n",
       "      <td>0</td>\n",
       "      <td>True</td>\n",
       "      <td>1</td>\n",
       "      <td>0</td>\n",
       "      <td>2016-10-04 00:13:20</td>\n",
       "      <td>2016-10-04 00:13:20</td>\n",
       "      <td>4732</td>\n",
       "    </tr>\n",
       "    <tr>\n",
       "      <th>4</th>\n",
       "      <td>5</td>\n",
       "      <td>2016-10-06 21:40:00</td>\n",
       "      <td>2016-10-06 21:40:00</td>\n",
       "      <td>safe</td>\n",
       "      <td>0.0</td>\n",
       "      <td>NaN</td>\n",
       "      <td>spa</td>\n",
       "      <td>0</td>\n",
       "      <td>0</td>\n",
       "      <td>0</td>\n",
       "      <td>False</td>\n",
       "      <td>1</td>\n",
       "      <td>0</td>\n",
       "      <td>NaT</td>\n",
       "      <td>NaT</td>\n",
       "      <td>5059</td>\n",
       "    </tr>\n",
       "  </tbody>\n",
       "</table>\n",
       "</div>"
      ],
      "text/plain": [
       "   STORY_ID         CREATE_TIME       MODIFIED_TIME RATING  CATEGORY_REF  \\\n",
       "0         1 2016-08-10 20:13:20 2016-08-10 20:13:20   safe           0.0   \n",
       "1         2 2016-08-27 23:20:00 2016-08-27 23:20:00   safe           0.0   \n",
       "2         3 2016-08-28 02:06:40 2016-08-28 02:06:40   safe           1.0   \n",
       "3         4 2016-10-04 00:13:20 2016-10-04 00:13:20   safe          13.0   \n",
       "4         5 2016-10-06 21:40:00 2016-10-06 21:40:00   safe           0.0   \n",
       "\n",
       "  EXTRA_CATEGORY_REF STORY_LANGUAGE  NR_OF_CHAPTERS  IS_PUBLISHED  \\\n",
       "0                NaN            spa               1             0   \n",
       "1                NaN            spa               0             0   \n",
       "2                 23            spa               2             1   \n",
       "3                  0            spa               1             1   \n",
       "4                NaN            spa               0             0   \n",
       "\n",
       "   IS_FINISHED  HAS_COVER  COPYRIGHT_REF  IS_CLASSIC     FIRST_PUBLISHED  \\\n",
       "0            0      False              1           0                 NaT   \n",
       "1            0      False              1           0                 NaT   \n",
       "2            0       True              1           0 2016-08-28 02:06:40   \n",
       "3            0       True              1           0 2016-10-04 00:13:20   \n",
       "4            0      False              1           0                 NaT   \n",
       "\n",
       "         LAST_CHANGED  ACCOUNT_ID  \n",
       "0                 NaT        3197  \n",
       "1                 NaT        3312  \n",
       "2 2016-08-28 02:06:40        3408  \n",
       "3 2016-10-04 00:13:20        4732  \n",
       "4                 NaT        5059  "
      ]
     },
     "execution_count": 161,
     "metadata": {},
     "output_type": "execute_result"
    }
   ],
   "source": [
    "stories['CREATE_TIME'] = pd.to_datetime(stories['CREATE_TIME'], unit='ms')\n",
    "stories['MODIFIED_TIME'] = pd.to_datetime(stories['MODIFIED_TIME'], unit='ms')\n",
    "stories['FIRST_PUBLISHED'] = pd.to_datetime(stories['FIRST_PUBLISHED'], unit='ms')\n",
    "stories['LAST_CHANGED'] = pd.to_datetime(stories['LAST_CHANGED'], unit='ms')\n",
    "stories.head()"
   ]
  },
  {
   "cell_type": "code",
   "execution_count": 162,
   "metadata": {},
   "outputs": [],
   "source": [
    "stories.drop(columns=['FIRST_PUBLISHED','LAST_CHANGED'], inplace=True)"
   ]
  },
  {
   "cell_type": "code",
   "execution_count": 163,
   "metadata": {},
   "outputs": [],
   "source": [
    "stories['EXTRA_CATEGORY_REF'] = pd.to_numeric(stories['EXTRA_CATEGORY_REF'], errors='coerce')"
   ]
  },
  {
   "cell_type": "code",
   "execution_count": 164,
   "metadata": {},
   "outputs": [],
   "source": [
    "# Set story language to categorical variables.\n",
    "stories['STORY_LANGUAGE'] = stories['STORY_LANGUAGE'].astype('category')"
   ]
  },
  {
   "cell_type": "code",
   "execution_count": 165,
   "metadata": {},
   "outputs": [],
   "source": [
    "# Set copyright to categorical variables.\n",
    "stories['COPYRIGHT_REF'] = stories['COPYRIGHT_REF'].astype('category')"
   ]
  },
  {
   "cell_type": "code",
   "execution_count": 166,
   "metadata": {},
   "outputs": [],
   "source": [
    "# Set is_classic to a boolean variable\n",
    "stories['IS_CLASSIC'] = stories['IS_CLASSIC'].astype('bool')"
   ]
  },
  {
   "cell_type": "code",
   "execution_count": 167,
   "metadata": {},
   "outputs": [
    {
     "name": "stdout",
     "output_type": "stream",
     "text": [
      "<class 'pandas.core.frame.DataFrame'>\n",
      "Int64Index: 171237 entries, 0 to 171236\n",
      "Data columns (total 14 columns):\n",
      "STORY_ID              171237 non-null int64\n",
      "CREATE_TIME           171237 non-null datetime64[ns]\n",
      "MODIFIED_TIME         171237 non-null datetime64[ns]\n",
      "RATING                171237 non-null object\n",
      "CATEGORY_REF          158861 non-null float64\n",
      "EXTRA_CATEGORY_REF    65437 non-null float64\n",
      "STORY_LANGUAGE        171237 non-null category\n",
      "NR_OF_CHAPTERS        171237 non-null int64\n",
      "IS_PUBLISHED          171237 non-null int64\n",
      "IS_FINISHED           171237 non-null int64\n",
      "HAS_COVER             171237 non-null bool\n",
      "COPYRIGHT_REF         171237 non-null category\n",
      "IS_CLASSIC            171237 non-null bool\n",
      "ACCOUNT_ID            171237 non-null int64\n",
      "dtypes: bool(2), category(2), datetime64[ns](2), float64(2), int64(5), object(1)\n",
      "memory usage: 15.0+ MB\n"
     ]
    }
   ],
   "source": [
    "stories.info()"
   ]
  },
  {
   "cell_type": "markdown",
   "metadata": {},
   "source": [
    "# Accounts/users"
   ]
  },
  {
   "cell_type": "code",
   "execution_count": 168,
   "metadata": {},
   "outputs": [
    {
     "name": "stdout",
     "output_type": "stream",
     "text": [
      "<class 'pandas.core.frame.DataFrame'>\n",
      "RangeIndex: 568861 entries, 0 to 568860\n",
      "Data columns (total 7 columns):\n",
      "ACCOUNT_ID    568861 non-null int64\n",
      "CREATED_AT    551522 non-null object\n",
      "UPDATED_AT    551522 non-null object\n",
      "GENDER        551522 non-null float64\n",
      "DOB           60200 non-null object\n",
      "READLANG      551522 non-null object\n",
      "FROMSOCIAL    249848 non-null object\n",
      "dtypes: float64(1), int64(1), object(5)\n",
      "memory usage: 30.4+ MB\n"
     ]
    }
   ],
   "source": [
    "accounts.info()"
   ]
  },
  {
   "cell_type": "code",
   "execution_count": 169,
   "metadata": {},
   "outputs": [],
   "source": [
    "# Date columns to datetime\n",
    "accounts['CREATED_AT'] = pd.to_datetime(accounts['CREATED_AT'], errors='coerce')\n",
    "accounts['UPDATED_AT'] = pd.to_datetime(accounts['UPDATED_AT'], errors='coerce')\n",
    "accounts['DOB'] = pd.to_datetime(accounts['DOB'], errors='coerce')"
   ]
  },
  {
   "cell_type": "code",
   "execution_count": 170,
   "metadata": {},
   "outputs": [
    {
     "name": "stdout",
     "output_type": "stream",
     "text": [
      "<class 'pandas.core.frame.DataFrame'>\n",
      "RangeIndex: 568861 entries, 0 to 568860\n",
      "Data columns (total 7 columns):\n",
      "ACCOUNT_ID    568861 non-null int64\n",
      "CREATED_AT    551522 non-null datetime64[ns]\n",
      "UPDATED_AT    551521 non-null datetime64[ns]\n",
      "GENDER        551522 non-null float64\n",
      "DOB           60200 non-null datetime64[ns]\n",
      "READLANG      551522 non-null object\n",
      "FROMSOCIAL    249848 non-null object\n",
      "dtypes: datetime64[ns](3), float64(1), int64(1), object(2)\n",
      "memory usage: 30.4+ MB\n"
     ]
    }
   ],
   "source": [
    "accounts.info()"
   ]
  },
  {
   "cell_type": "code",
   "execution_count": 171,
   "metadata": {},
   "outputs": [],
   "source": [
    "accounts['GENDER'] = accounts['GENDER'].astype('category')"
   ]
  },
  {
   "cell_type": "code",
   "execution_count": 172,
   "metadata": {},
   "outputs": [],
   "source": [
    "accounts['READLANG'] = accounts['READLANG'].astype('category')"
   ]
  },
  {
   "cell_type": "code",
   "execution_count": 173,
   "metadata": {},
   "outputs": [],
   "source": [
    "accounts['FROMSOCIAL'] = accounts['FROMSOCIAL'].fillna(0)\n",
    "accounts['FROMSOCIAL'] = accounts['FROMSOCIAL'].replace(to_replace='facebook',value=1)"
   ]
  },
  {
   "cell_type": "code",
   "execution_count": 174,
   "metadata": {},
   "outputs": [],
   "source": [
    "accounts['FROMSOCIAL'] = accounts['FROMSOCIAL'].astype('bool')"
   ]
  },
  {
   "cell_type": "code",
   "execution_count": 175,
   "metadata": {},
   "outputs": [
    {
     "name": "stdout",
     "output_type": "stream",
     "text": [
      "<class 'pandas.core.frame.DataFrame'>\n",
      "RangeIndex: 568861 entries, 0 to 568860\n",
      "Data columns (total 7 columns):\n",
      "ACCOUNT_ID    568861 non-null int64\n",
      "CREATED_AT    551522 non-null datetime64[ns]\n",
      "UPDATED_AT    551521 non-null datetime64[ns]\n",
      "GENDER        551522 non-null category\n",
      "DOB           60200 non-null datetime64[ns]\n",
      "READLANG      551522 non-null category\n",
      "FROMSOCIAL    568861 non-null bool\n",
      "dtypes: bool(1), category(2), datetime64[ns](3), int64(1)\n",
      "memory usage: 19.0 MB\n"
     ]
    }
   ],
   "source": [
    "accounts.info()"
   ]
  },
  {
   "cell_type": "markdown",
   "metadata": {},
   "source": [
    "# Comments"
   ]
  },
  {
   "cell_type": "code",
   "execution_count": 176,
   "metadata": {},
   "outputs": [
    {
     "name": "stdout",
     "output_type": "stream",
     "text": [
      "<class 'pandas.core.frame.DataFrame'>\n",
      "RangeIndex: 225265 entries, 0 to 225264\n",
      "Data columns (total 7 columns):\n",
      "COMMENT_ID             225265 non-null int64\n",
      "CREATE_TIME            225265 non-null int64\n",
      "ACCOUNT_ID             225265 non-null int64\n",
      "STORY_ID               225265 non-null int64\n",
      "PREVIOUS_COMMENT_ID    49462 non-null float64\n",
      "DELETED                225265 non-null int64\n",
      "WORD_COUNT             225265 non-null int64\n",
      "dtypes: float64(1), int64(6)\n",
      "memory usage: 12.0 MB\n"
     ]
    }
   ],
   "source": [
    "comments.info()"
   ]
  },
  {
   "cell_type": "code",
   "execution_count": 177,
   "metadata": {},
   "outputs": [],
   "source": [
    "# Convert create_time to datetime and rename\n",
    "comments['CREATE_TIME'].astype(float, inplace=True)\n",
    "comments['CREATE_TIME'] = pd.to_datetime(comments['CREATE_TIME'], unit='ms')\n",
    "comments.rename(columns={'CREATE_TIME':'COMMENT_TIME'}, inplace=True)"
   ]
  },
  {
   "cell_type": "code",
   "execution_count": 178,
   "metadata": {},
   "outputs": [],
   "source": [
    "# WHAT THE FUCK IS THE 2\n",
    "comments['DELETED'] = comments['DELETED'].astype('category')"
   ]
  },
  {
   "cell_type": "code",
   "execution_count": 179,
   "metadata": {},
   "outputs": [
    {
     "name": "stdout",
     "output_type": "stream",
     "text": [
      "<class 'pandas.core.frame.DataFrame'>\n",
      "RangeIndex: 225265 entries, 0 to 225264\n",
      "Data columns (total 7 columns):\n",
      "COMMENT_ID             225265 non-null int64\n",
      "COMMENT_TIME           225265 non-null datetime64[ns]\n",
      "ACCOUNT_ID             225265 non-null int64\n",
      "STORY_ID               225265 non-null int64\n",
      "PREVIOUS_COMMENT_ID    49462 non-null float64\n",
      "DELETED                225265 non-null category\n",
      "WORD_COUNT             225265 non-null int64\n",
      "dtypes: category(1), datetime64[ns](1), float64(1), int64(4)\n",
      "memory usage: 10.5 MB\n"
     ]
    }
   ],
   "source": [
    "comments.info()"
   ]
  },
  {
   "cell_type": "markdown",
   "metadata": {},
   "source": [
    "# Interactions"
   ]
  },
  {
   "cell_type": "code",
   "execution_count": 180,
   "metadata": {},
   "outputs": [
    {
     "name": "stdout",
     "output_type": "stream",
     "text": [
      "<class 'pandas.core.frame.DataFrame'>\n",
      "RangeIndex: 1048575 entries, 0 to 1048574\n",
      "Data columns (total 5 columns):\n",
      "INTERACTION_ID       1048575 non-null int64\n",
      "SERVER_EVENT_TIME    1048575 non-null int64\n",
      "ACCOUNT_ID           1048575 non-null int64\n",
      "INTERACTION_TYPE     1048575 non-null int64\n",
      "STORY_ID             1048575 non-null int64\n",
      "dtypes: int64(5)\n",
      "memory usage: 40.0 MB\n"
     ]
    }
   ],
   "source": [
    "interactions.info()"
   ]
  },
  {
   "cell_type": "code",
   "execution_count": 181,
   "metadata": {},
   "outputs": [],
   "source": [
    "# Convert SERVER_EVENT_TIME to datetime\n",
    "interactions['SERVER_EVENT_TIME'].astype(float, inplace=True)\n",
    "interactions['SERVER_EVENT_TIME'] = pd.to_datetime(interactions['SERVER_EVENT_TIME'], unit='ms')\n",
    "interactions.rename(columns={'SERVER_EVENT_TIME':'INTERACTION_TIME'}, inplace=True)"
   ]
  },
  {
   "cell_type": "code",
   "execution_count": 182,
   "metadata": {},
   "outputs": [],
   "source": [
    "# Set interaction type to category\n",
    "interactions['INTERACTION_TYPE'] = interactions['INTERACTION_TYPE'].astype('category')"
   ]
  },
  {
   "cell_type": "code",
   "execution_count": 183,
   "metadata": {},
   "outputs": [
    {
     "name": "stdout",
     "output_type": "stream",
     "text": [
      "<class 'pandas.core.frame.DataFrame'>\n",
      "RangeIndex: 1048575 entries, 0 to 1048574\n",
      "Data columns (total 5 columns):\n",
      "INTERACTION_ID      1048575 non-null int64\n",
      "INTERACTION_TIME    1048575 non-null datetime64[ns]\n",
      "ACCOUNT_ID          1048575 non-null int64\n",
      "INTERACTION_TYPE    1048575 non-null category\n",
      "STORY_ID            1048575 non-null int64\n",
      "dtypes: category(1), datetime64[ns](1), int64(3)\n",
      "memory usage: 33.0 MB\n"
     ]
    }
   ],
   "source": [
    "interactions.info()"
   ]
  },
  {
   "cell_type": "markdown",
   "metadata": {},
   "source": [
    "# Reads"
   ]
  },
  {
   "cell_type": "code",
   "execution_count": 184,
   "metadata": {},
   "outputs": [
    {
     "name": "stdout",
     "output_type": "stream",
     "text": [
      "<class 'pandas.core.frame.DataFrame'>\n",
      "RangeIndex: 1048460 entries, 0 to 1048459\n",
      "Data columns (total 5 columns):\n",
      "READ_ID              1048460 non-null int64\n",
      "SERVER_EVENT_TIME    1048460 non-null int64\n",
      "ACCOUNT_ID           1048460 non-null int64\n",
      "COUNT                1048460 non-null int64\n",
      "STORY_ID             1048460 non-null int64\n",
      "dtypes: int64(5)\n",
      "memory usage: 40.0 MB\n"
     ]
    }
   ],
   "source": [
    "reads.info()"
   ]
  },
  {
   "cell_type": "code",
   "execution_count": 185,
   "metadata": {},
   "outputs": [],
   "source": [
    "# Convert SERVER_EVENT_TIME to datetime\n",
    "reads['SERVER_EVENT_TIME'].astype(float, inplace=True)\n",
    "reads['SERVER_EVENT_TIME'] = pd.to_datetime(reads['SERVER_EVENT_TIME'], unit='ms')\n",
    "reads.rename(columns={'SERVER_EVENT_TIME':'READ_TIME'}, inplace=True)"
   ]
  },
  {
   "cell_type": "code",
   "execution_count": 186,
   "metadata": {},
   "outputs": [
    {
     "name": "stdout",
     "output_type": "stream",
     "text": [
      "<class 'pandas.core.frame.DataFrame'>\n",
      "RangeIndex: 1048460 entries, 0 to 1048459\n",
      "Data columns (total 5 columns):\n",
      "READ_ID       1048460 non-null int64\n",
      "READ_TIME     1048460 non-null datetime64[ns]\n",
      "ACCOUNT_ID    1048460 non-null int64\n",
      "COUNT         1048460 non-null int64\n",
      "STORY_ID      1048460 non-null int64\n",
      "dtypes: datetime64[ns](1), int64(4)\n",
      "memory usage: 40.0 MB\n"
     ]
    }
   ],
   "source": [
    "reads.info()"
   ]
  },
  {
   "cell_type": "code",
   "execution_count": null,
   "metadata": {},
   "outputs": [],
   "source": []
  }
 ],
 "metadata": {
  "kernelspec": {
   "display_name": "Python 3",
   "language": "python",
   "name": "python3"
  },
  "language_info": {
   "codemirror_mode": {
    "name": "ipython",
    "version": 3
   },
   "file_extension": ".py",
   "mimetype": "text/x-python",
   "name": "python",
   "nbconvert_exporter": "python",
   "pygments_lexer": "ipython3",
   "version": "3.6.8"
  }
 },
 "nbformat": 4,
 "nbformat_minor": 2
}
